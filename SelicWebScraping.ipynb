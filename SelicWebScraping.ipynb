{
  "nbformat": 4,
  "nbformat_minor": 0,
  "metadata": {
    "colab": {
      "provenance": [],
      "authorship_tag": "ABX9TyPUZ3yFGnfuAqFQAoV18yoC",
      "include_colab_link": true
    },
    "kernelspec": {
      "name": "python3",
      "display_name": "Python 3"
    },
    "language_info": {
      "name": "python"
    }
  },
  "cells": [
    {
      "cell_type": "markdown",
      "metadata": {
        "id": "view-in-github",
        "colab_type": "text"
      },
      "source": [
        "<a href=\"https://colab.research.google.com/github/AdrianoHKim/WebScrapSelic/blob/main/SelicWebScraping.ipynb\" target=\"_parent\"><img src=\"https://colab.research.google.com/assets/colab-badge.svg\" alt=\"Open In Colab\"/></a>"
      ]
    },
    {
      "cell_type": "code",
      "execution_count": null,
      "metadata": {
        "id": "6GWG0Oq4jRBB"
      },
      "outputs": [],
      "source": [
        "import pandas as pd  # Importa a biblioteca pandas com o alias 'pd'\n",
        "import matplotlib.pyplot as plt  # Importa a biblioteca matplotlib.pyplot com o alias 'plt'\n",
        "import yfinance as yf  # Importa a biblioteca yfinance com o alias 'yf'\n",
        "import seaborn as sns  # Importa a biblioteca seaborn com o alias 'sns'\n",
        "\n",
        "# Define uma função para extrair dados do Banco Central do Brasil\n",
        "def extracao_bcb(codigo, data_inicio, data_fim):\n",
        "    # Constrói a URL para a API do BCB com base nos parâmetros fornecidos\n",
        "    url = 'https://api.bcb.gov.br/dados/serie/bcdata.sgs.{}/' \\\n",
        "          'dados?formato=json&dataInicial={}&dataFinal={}'.format(codigo, data_inicio, data_fim)\n",
        "\n",
        "    # Lê os dados JSON da URL para um DataFrame do pandas\n",
        "    df = pd.read_json(url)\n",
        "\n",
        "    # Define a coluna 'data' como índice e converte para o formato de data\n",
        "    df.set_index('data', inplace=True)\n",
        "    df.index = pd.to_datetime(df.index, dayfirst=True)\n",
        "\n",
        "    # Renomeia as colunas do DataFrame\n",
        "    df.columns = ['SELIC']\n",
        "\n",
        "    # Converte os valores da coluna 'SELIC' para a escala percentual dividindo por 100\n",
        "    df['SELIC'] = df['SELIC'] / 100\n",
        "\n",
        "    # Retorna o DataFrame resultante\n",
        "    return df\n",
        "\n",
        "# Chama a função extracao_bcb para obter dados sobre a taxa SELIC\n",
        "dados = extracao_bcb(4390, '01/01/2010', '31/12/2023')\n",
        "\n",
        "# Lista de ativos para os quais serão baixados dados do Yahoo Finance\n",
        "ativos = ['ITUB4', 'EMBR3', 'VALE3']\n",
        "\n",
        "# Loop para baixar dados mensais ajustados de fechamento para os ativos listados\n",
        "for i in ativos:\n",
        "    dados[i] = yf.download(i + '.SA',\n",
        "                           start='2010-01-01',\n",
        "                           end='2023-12-31',\n",
        "                           interval='1mo')['Adj Close'].pct_change()\n",
        "\n",
        "# Remove a primeira linha do DataFrame (NaN resultante da operação de percentual de mudança)\n",
        "dados = dados.iloc[1:]\n",
        "\n",
        "# Adiciona 1 a todos os valores no DataFrame\n",
        "dados = dados + 1\n",
        "\n",
        "# Exibe as primeiras 12 linhas do DataFrame\n",
        "print(dados.head(12))\n",
        "\n",
        "# Calcula o retorno acumulado para cada ativo\n",
        "acumulado = dados.cumprod()\n",
        "\n",
        "# Plota o gráfico das ações versus SELIC\n",
        "plt.figure(figsize=(10, 6))\n",
        "sns.set_style('darkgrid')\n",
        "sns.set_palette('mako')\n",
        "plt.title('Ações vs Selic')\n",
        "sns.lineplot(data=acumulado)\n",
        "\n",
        "# Plota um heatmap da correlação do retorno acumulado\n",
        "plt.figure(figsize=(8, 6))\n",
        "plt.title('Correlação do Retorno Acumulado')\n",
        "sns.heatmap(acumulado.corr(), annot=True, cmap='coolwarm', fmt=\".2f\", linewidths=.5)\n"
      ]
    }
  ]
}